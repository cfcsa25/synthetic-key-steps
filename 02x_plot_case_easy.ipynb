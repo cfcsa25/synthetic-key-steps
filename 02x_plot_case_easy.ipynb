{
 "cells": [
  {
   "cell_type": "markdown",
   "id": "6b6f0e58",
   "metadata": {},
   "source": [
    "## Plots graph edit distance figures for molecule case easy"
   ]
  },
  {
   "cell_type": "code",
   "execution_count": 1,
   "id": "overall-paradise",
   "metadata": {},
   "outputs": [],
   "source": [
    "from rdkit import Chem\n",
    "from rdkit.Chem.Draw import IPythonConsole\n",
    "\n",
    "import matplotlib.pyplot as plt\n",
    "plt.rcParams.update({'font.family':'Arial'})\n",
    "\n",
    "import numpy as np\n",
    "import os, re, sys\n",
    "np.set_printoptions(threshold=sys.maxsize)"
   ]
  },
  {
   "cell_type": "code",
   "execution_count": 2,
   "id": "d32fb6ca",
   "metadata": {},
   "outputs": [],
   "source": [
    "case_name = \"case_easy\""
   ]
  },
  {
   "cell_type": "code",
   "execution_count": 3,
   "id": "flush-opinion",
   "metadata": {},
   "outputs": [],
   "source": [
    "def sum_abs_adj_matrix(m):\n",
    "    return sum(sum(np.abs(m)))/2"
   ]
  },
  {
   "cell_type": "code",
   "execution_count": 4,
   "id": "17255b77",
   "metadata": {},
   "outputs": [],
   "source": [
    "for dirs in [\"case_easy\"]:\n",
    "    if not os.path.exists(f\"./figures/{dirs}\"):\n",
    "        os.makedirs(f\"./figures/{dirs}\")"
   ]
  },
  {
   "cell_type": "markdown",
   "id": "b71f13ba",
   "metadata": {},
   "source": [
    "### various graphing colors"
   ]
  },
  {
   "cell_type": "code",
   "execution_count": 5,
   "id": "ecdcce49",
   "metadata": {},
   "outputs": [],
   "source": [
    "# synthia graph colors\n",
    "synthia_purple = np.array([80,50,145,255])/255\n",
    "synthia_blue = np.array([45,190,205,255])/255\n",
    "synthia_orange = np.array([255,160,0,255])/255\n",
    "synthia_pink = np.array([235,60,150,255])/255"
   ]
  },
  {
   "cell_type": "code",
   "execution_count": 6,
   "id": "fbf9eb2e",
   "metadata": {},
   "outputs": [],
   "source": [
    "# chemdraw step marker colors\n",
    "cdraw_orange_face = np.array([252,236,207,255])/255\n",
    "cdraw_orange_edge = np.array([245,191,94,255])/255"
   ]
  },
  {
   "cell_type": "code",
   "execution_count": 7,
   "id": "e775b6e7",
   "metadata": {},
   "outputs": [],
   "source": [
    "# gridline color\n",
    "grid_grey = np.array([225,225,225,255])/255"
   ]
  },
  {
   "cell_type": "markdown",
   "id": "miniature-antigua",
   "metadata": {},
   "source": [
    "## initialize"
   ]
  },
  {
   "cell_type": "code",
   "execution_count": 8,
   "id": "e449f0e0",
   "metadata": {},
   "outputs": [],
   "source": [
    "\n",
    "def process_route(r1):\n",
    "    \n",
    "    \"\"\"\n",
    "    processes matrix-encoded synthetic route.\n",
    "    \n",
    "    input: r1, a 3D array, where each layer is a matrix encoding a synthetic intermediate.\n",
    "    output: a dictionary of route metrics. \n",
    "        diffs - the graph edit distance from each intermediate to the target\n",
    "        step diffs - the graph edit distance from each intermediate to the one right after\n",
    "        slope - the difference between consecutive entries of the diffs array\n",
    "    \"\"\"\n",
    "    recording = open(f\"./figures/{case_name}/route_recording.txt\",\"w\")\n",
    "    total_diffs = []\n",
    "\n",
    "    stereo_dists = []\n",
    "    final_stereo = np.diag(r1[-1].copy())\n",
    "    recording.write(f\"final stereo: \\n{final_stereo}\\n\")\n",
    "    \n",
    "    # get a version with blank diagonals (since stereochem is processed separately)\n",
    "    final_bonds = r1[-1].copy()\n",
    "    recording.write(f\"final bonds:\\n{final_bonds}\\n\")\n",
    "    recording.write(\"get a version with blank diagonals (since stereochem is processed separately)\\n\")\n",
    "    np.fill_diagonal(final_bonds, 0)\n",
    "    recording.write(f\"final bonds:\\n{final_bonds}\\n\")\n",
    "    \n",
    "    # iterate through intermediates (from reactants to product):\n",
    "    for i, raw_mat in enumerate(r1):\n",
    "        recording.write(f\"intermediate: {i+1}\\n\")\n",
    "        recording.write(f\"raw mat:\\n{raw_mat}\\n\")\n",
    "        # calculate stereochem distance \n",
    "        recording.write(\"calculate stereochem distance \\n\")\n",
    "\n",
    "        stereo_data = np.diag(raw_mat.copy())\n",
    "        recording.write(f\"stereo_data:{stereo_data}\\n\")\n",
    "\n",
    "        # stereochem distance\n",
    "        # number of atoms where stereo differs\n",
    "        # (stemoamide case, final has 4 stereocenters, this raw_mat intermediate has 0, so distance is 4)\n",
    "        stereo_dist = sum(stereo_data != final_stereo)\n",
    "        recording.write(f\"stereo dist:{stereo_dist}\\n\")\n",
    "\n",
    "        stereo_dists.append(stereo_dist)\n",
    "        recording.write(f\"stereo dists so far:{stereo_dists}\\n\")\n",
    "        \n",
    "        # get bonds only (without stereo)\n",
    "        recording.write(\"get bonds only (without stereo)\\n\")\n",
    "        mat = raw_mat.copy()\n",
    "        np.fill_diagonal(mat, 0)\n",
    "        recording.write(f\"mat:\\n{mat}\\n\")\n",
    "        \n",
    "        # bond distance\n",
    "        diff = final_bonds - mat\n",
    "        recording.write(f\"diff:\\n{diff}\\n\")\n",
    "        \n",
    "        # get bond edit distance\n",
    "        # take all absolute values, sum them up, divide by 2\n",
    "        recording.write(\"get bond edit distance\\n take all absolute values, sum them up, divide by 2\\n\")\n",
    "        total_diff_abs = sum_abs_adj_matrix(diff)\n",
    "        recording.write(f\"total_diff_abs:{total_diff_abs}\\n\")\n",
    "        \n",
    "        # append sum of bond and stereochem distance\n",
    "        total_diffs.append(total_diff_abs + stereo_dist)\n",
    "        recording.write(f\"total_diffs so far:{total_diffs}\\n\")\n",
    "\n",
    "    recording.write(f\"final stereo dists:{stereo_dists}\\n\")\n",
    "    step_diffs = []\n",
    "    stereo_diffs = np.ediff1d(stereo_dists) # difference in stereochem distance between consecutive intermediates\n",
    "    recording.write(f\"stereo_diffs:{stereo_diffs}\\n\")\n",
    "    for i_mat in range(len(r1)-1):\n",
    "        # difference between 2 intermediates\n",
    "        step_diff = r1[i_mat+1] - r1[i_mat]\n",
    "        \n",
    "        # zero out the stereochem \n",
    "        np.fill_diagonal(step_diff, 0)\n",
    "        \n",
    "        # total bond and stereocenter edits between 2 consecutive intermediates \n",
    "        # the reason to kick out diagnonal (stereochem) is because this is a diagonal matrix\n",
    "        # the sum_abs_adj_matrix function would NOT count the diagonal entries twice, and the division by 2 would mess up the count\n",
    "        total_diff_abs = sum_abs_adj_matrix(step_diff) + abs(stereo_diffs[i_mat])\n",
    "        print(sum_abs_adj_matrix(step_diff),abs(stereo_diffs[i_mat]))\n",
    "\n",
    "        step_diffs.append(total_diff_abs)\n",
    "\n",
    "    # change in actual distance between intermediates \n",
    "    recording.write(f\"step_diffs:{step_diffs}\\n\")\n",
    "    slope = -np.ediff1d(total_diffs)\n",
    "    recording.write(f\"total_diffs:{total_diffs}\\n\")\n",
    "    recording.write(f\"slope:{slope}\\n\")\n",
    "\n",
    "    return {\"diffs\":total_diffs,\"step_diffs\":step_diffs,\"slopes\":slope}\n",
    "    "
   ]
  },
  {
   "cell_type": "code",
   "execution_count": 9,
   "id": "26cf8302",
   "metadata": {},
   "outputs": [],
   "source": [
    "def graph_data(input_filename, highlight_steps=[], hl_only=False,\n",
    "               step_labels=None, table_scale=(0.3,1), gridlines=None, \n",
    "               savename=None,plt_title=None):\n",
    "    \n",
    "    \"\"\"\n",
    "    produces plot of graph edit distances for a synthetic route.\n",
    "    \n",
    "    inputs:\n",
    "    \n",
    "    input_filename: string, path to the .npz file of the synthetic route matrices\n",
    "    \n",
    "    hightlight_steps: list of step numbers to plot in orange.\n",
    "    \n",
    "    hl_only: boolean. Whether to only annotate step numbers for highlighted steps\n",
    "    \n",
    "    step_labels: list, used to override the default step labels\n",
    "    \n",
    "    table_scale: (x,y) tuple, scaling factor for the slope table. Set to None to omit.\n",
    "    \n",
    "    gridlines: a dictionary of {\"x\":[list of x indices],\"y\":[list of y indices]},\n",
    "        where grey gridlines will be drawn at the indicated locations.\n",
    "        \n",
    "    savename: string, path to save figure image\n",
    "    \n",
    "    plt_title: string, for titling the graph.\n",
    "    \"\"\"\n",
    "    amats = np.load(input_filename)[\"amats\"]\n",
    "    to_plot  = process_route(amats)[\"diffs\"]\n",
    "\n",
    "    # compute values for the slope table\n",
    "    slope = -np.array(process_route(amats)[\"slopes\"]).astype(\"int\")\n",
    "    \n",
    "    # swap to em dash\n",
    "    slope_plot = []\n",
    "    for slp in slope:\n",
    "        if slp >= 0:\n",
    "            slope_plot.append(slp)\n",
    "        else:\n",
    "            slope_plot.append(\"−\"+str(slp)[1:])\n",
    "\n",
    "    # the case for a 4-column table\n",
    "    if len(slope) >= 10:\n",
    "        # even \n",
    "        if len(slope) % 2 == 0:\n",
    "            table_tags = np.arange(1,len(slope)+1,1)\n",
    "            table_midpt = int(len(slope)/2)\n",
    "            table_text = np.column_stack((table_tags[0:table_midpt],\n",
    "                                          slope_plot[0:table_midpt],\n",
    "                                          table_tags[table_midpt:],\n",
    "                                          slope_plot[table_midpt:]))\n",
    "        # odd    \n",
    "        else:\n",
    "            slope1 = slope_plot + [\"-\"]\n",
    "            table_tags = np.append(np.arange(1,len(slope1),1),\"-\")\n",
    "            table_midpt = int(len(slope1)/2)\n",
    "            table_text = np.column_stack((table_tags[0:table_midpt],\n",
    "                                              slope1[0:table_midpt],\n",
    "                                          table_tags[table_midpt:],\n",
    "                                              slope1[table_midpt:]))        \n",
    "\n",
    "    # regular\n",
    "    else: \n",
    "        table_text = np.vstack((np.arange(1,len(slope)+1,1),slope_plot)).transpose()\n",
    "\n",
    "    # for step numbers\n",
    "    y_midpoints = np.array([np.mean([to_plot[i],to_plot[i+1]]) for i in range(len(to_plot)-1)])\n",
    "    x_midpoints = np.arange(0.5,len(to_plot)-1,1)\n",
    "\n",
    "    \n",
    "    fig,ax = plt.subplots(figsize=(3.5,2))\n",
    "\n",
    "    mks = 4\n",
    "    fs = 11 # table and tick labels\n",
    "    label_fs = 11 # axis labels\n",
    "    circle_fs = 7\n",
    "    \n",
    "    # re-plot highlighted steps as orange\n",
    "    ax.plot(to_plot,marker=\"o\",markersize=mks,color=\"grey\",mfc=\"k\",mec=\"k\")\n",
    "    for hl in highlight_steps:\n",
    "        ax.plot([hl-1,hl],to_plot[hl-1:hl+1],color=synthia_orange,marker=\"o\",markersize=mks,mfc=\"k\",mec=\"k\",linewidth=2)\n",
    "        \n",
    "    if gridlines:\n",
    "        transX = ax.get_xaxis_transform()\n",
    "        transY = ax.get_yaxis_transform()\n",
    "        ax.vlines(gridlines[\"x\"],ymin=0,ymax=1,color=grid_grey,zorder=0,linewidth=0.8,transform=transX)\n",
    "        ax.hlines(gridlines[\"y\"],xmin=0,xmax=1,color=grid_grey,zorder=0,linewidth=0.8,transform=transY)\n",
    "\n",
    "    # put in the table - colLabels will be fine with a 2-column.\n",
    "    if table_scale:\n",
    "        slope_table = ax.table(cellText=table_text,\n",
    "                              colLabels=[\"Step\",\"Slope\",\"Step\",\"Slope\"],\n",
    "                              loc='right',fontsize=fs)\n",
    "\n",
    "        slope_table.scale(*table_scale)\n",
    "\n",
    "    # the step circles\n",
    "    y_adj = 0\n",
    "    \n",
    "    # if no override, the labels are just the step number\n",
    "    if not step_labels:\n",
    "        step_labels = range(1,len(slope)+1)\n",
    "\n",
    "    # for only plotting the highlighted steps\n",
    "    if hl_only:\n",
    "        hl_inds = [i-1 for i in highlight_steps]\n",
    "        ax.scatter(x_midpoints[hl_inds],y_midpoints[hl_inds]+y_adj,s=75,\n",
    "                   color=cdraw_orange_face,edgecolors=cdraw_orange_edge,zorder=3)\n",
    "\n",
    "        for hl in hl_inds:\n",
    "            x_c = x_midpoints[hl]\n",
    "            y_c = y_midpoints[hl]+y_adj\n",
    "            label = ax.annotate(step_labels[hl], xy=(x_c,y_c), fontsize=circle_fs,ha=\"center\",va=\"center\",fontweight=\"bold\")\n",
    "\n",
    "    # for all the steps\n",
    "    else:\n",
    "        ax.scatter(x_midpoints,y_midpoints+y_adj,s=75,color=cdraw_orange_face,edgecolors=cdraw_orange_edge,zorder=3)\n",
    "\n",
    "        for i in range(len(x_midpoints)):\n",
    "            x_c = x_midpoints[i]\n",
    "            y_c = y_midpoints[i]+y_adj\n",
    "\n",
    "            label = ax.annotate(step_labels[i], xy=(x_c,y_c), fontsize=circle_fs,ha=\"center\",va=\"center\",fontweight=\"bold\")\n",
    "\n",
    "    # xy labels \n",
    "    ax.set_xticks(range(len(to_plot)))\n",
    "    ax.set_xticklabels(range(1,len(to_plot)+1),fontsize=fs)\n",
    "    \n",
    "    y_max = np.int8( np.ceil(max(to_plot)/5) * 5 + 1 )\n",
    "    ax.set_yticks(range(0,y_max,5))\n",
    "    ax.set_yticklabels(range(0,y_max,5),font=\"Arial\",fontsize=fs)\n",
    "\n",
    "    ax.set_ylabel(\"Graph Edit Distance\",fontsize=label_fs)\n",
    "    ax.set_xlabel(\"Intermediate\",fontsize=label_fs)\n",
    "    \n",
    "    if plt_title:\n",
    "        plt.title(plt_title,fontsize=label_fs)\n",
    "    \n",
    "    if savename:\n",
    "        plt.savefig(savename,dpi=600,bbox_inches = \"tight\")\n",
    "\n"
   ]
  },
  {
   "cell_type": "markdown",
   "id": "associate-dietary",
   "metadata": {},
   "source": [
    "### load matrix data\n"
   ]
  },
  {
   "cell_type": "code",
   "execution_count": null,
   "id": "9d7b459c",
   "metadata": {},
   "outputs": [
    {
     "name": "stderr",
     "output_type": "stream",
     "text": [
      "<>:9: SyntaxWarning: invalid escape sequence '\\W'\n",
      "<>:9: SyntaxWarning: invalid escape sequence '\\W'\n",
      "C:\\Users\\U1093432\\AppData\\Local\\Temp\\ipykernel_6372\\2709928874.py:9: SyntaxWarning: invalid escape sequence '\\W'\n",
      "  output_title = re.split(\"\\W+\",input_filename)[-2]\n"
     ]
    },
    {
     "name": "stdout",
     "output_type": "stream",
     "text": [
      "3.0 1\n",
      "5.0 2\n",
      "2.0 1\n",
      "2.0 0\n",
      "2.0 0\n",
      "2.0 0\n",
      "2.0 0\n",
      "3.0 1\n",
      "5.0 2\n",
      "2.0 1\n",
      "2.0 0\n",
      "2.0 0\n",
      "2.0 0\n",
      "2.0 0\n"
     ]
    },
    {
     "data": {
      "image/png": "[encoded data removed]",
      "text/plain": [
       "<Figure size 350x200 with 1 Axes>"
      ]
     },
     "metadata": {},
     "output_type": "display_data"
    }
   ],
   "source": [
    "# input_filename = \"./matrices/stemo_synthia_mannich.npz\"\n",
    "input_filename = \"./matrices/case_easy.npz\"\n",
    "highlight_steps = [2]\n",
    "hl_only = False\n",
    "step_labels = None\n",
    "\n",
    "table_scale = (0.3,1.13)\n",
    "gridlines = {\"x\":[0,1,2,3],\"y\":[0,5,10]}\n",
    "\n",
    "output_title = re.split(\"\\W+\",input_filename)[-2]\n",
    "\n",
    "savename=f\"./figures/{case_name}/{output_title}.png\"\n",
    "\n",
    "graph_data(input_filename, highlight_steps, hl_only, step_labels, table_scale, gridlines, savename=savename)"
   ]
  },
  {
   "cell_type": "code",
   "execution_count": null,
   "id": "4030c1e3",
   "metadata": {},
   "outputs": [],
   "source": [
    "# exp1 = np.load(\"./matrices/case_easy.npz\")[\"amats\"]\n",
    "# e1_data = process_route(exp1)\n",
    "# e1_data"
   ]
  },
  {
   "cell_type": "markdown",
   "id": "8c9d332d",
   "metadata": {},
   "source": [
    "### plot graphs separately\n"
   ]
  },
  {
   "cell_type": "markdown",
   "id": "4320c0dc",
   "metadata": {},
   "source": [
    "the plotting code here is slightly raw. For a better-annotated function, see the notebook for plotting SI figures."
   ]
  },
  {
   "cell_type": "markdown",
   "id": "b94c876a",
   "metadata": {},
   "source": [
    "### Experimental PRN473"
   ]
  },
  {
   "cell_type": "code",
   "execution_count": null,
   "id": "26dfa8c9",
   "metadata": {},
   "outputs": [],
   "source": [
    "# to_plot = e1_data[\"diffs\"]\n",
    "# to_plot"
   ]
  },
  {
   "cell_type": "code",
   "execution_count": null,
   "id": "f64730e4",
   "metadata": {},
   "outputs": [],
   "source": [
    "# # these are for the step number markers, not really important.\n",
    "# y_midpoints = np.array([np.mean([to_plot[i],to_plot[i+1]]) for i in range(len(to_plot)-1)])\n",
    "# x_midpoints = np.arange(0.5,len(to_plot)-1,1)\n",
    "# print(\"x_midpoints:\", x_midpoints)\n",
    "# print(\"y_midpoints:\", y_midpoints)"
   ]
  },
  {
   "cell_type": "code",
   "execution_count": null,
   "id": "7ced8a32",
   "metadata": {},
   "outputs": [],
   "source": [
    "# fig,ax = plt.subplots(figsize=(3.5,2))\n",
    "\n",
    "# mks = 4\n",
    "# fs = 7\n",
    "# label_fs = 7\n",
    "\n",
    "# # plot distances\n",
    "# ax.plot(to_plot,marker=\"o\",color=\"grey\",markersize=mks,mfc=\"k\",mec=\"k\")\n",
    "\n",
    "# # plot highlighted steps\n",
    "# ax.plot([1,2],to_plot[1:3],color=synthia_orange,marker=\"o\",markersize=mks,mfc=\"k\",mec=\"k\",linewidth=2)\n",
    "\n",
    "\n",
    "# ax.set_xticks(range(len(to_plot)))\n",
    "# ax.set_xticklabels(range(1,len(to_plot)+1),fontsize=fs)\n",
    "# ax.set_yticks(range(0,21,5))\n",
    "# ax.set_yticklabels(range(0,21,5),fontsize=fs)\n",
    "# ax.set_ylabel(\"Graph Edit Distance\",fontsize=label_fs)\n",
    "# ax.set_xlabel(\"Intermediate\",fontsize=label_fs)\n",
    "\n",
    "# # for the yellow circles with step numbers.\n",
    "# # can adjust step number label height. can be array if custom adjustments are needed\n",
    "# y_adj = 0\n",
    "# ax.scatter(x_midpoints,y_midpoints+y_adj,s=75,color=cdraw_orange_face,edgecolors=cdraw_orange_edge,zorder=3)\n",
    "\n",
    "# for i in range(len(x_midpoints)):\n",
    "#     x_c = x_midpoints[i]\n",
    "#     y_c = y_midpoints[i]+y_adj\n",
    "\n",
    "#     label = ax.annotate(i+1, xy=(x_c,y_c), fontsize=6,ha=\"center\",va=\"center\",fontweight=\"bold\")\n",
    "\n",
    "# transX = ax.get_xaxis_transform()\n",
    "# transY = ax.get_yaxis_transform()\n",
    "# ax.vlines([1,3,5,7],ymin=0,ymax=1,color=grid_grey,zorder=0,linewidth=0.8,transform=transX)\n",
    "# ax.hlines([0,5,10,15,20],xmin=0,xmax=1,color=grid_grey,zorder=0,linewidth=0.8,transform=transY)\n",
    "\n",
    "# plt.savefig(f\"./figures/main/{case_name}.svg\",bbox_inches = \"tight\")"
   ]
  }
 ],
 "metadata": {
  "kernelspec": {
   "display_name": ".venv_graph_edit",
   "language": "python",
   "name": "python3"
  },
  "language_info": {
   "codemirror_mode": {
    "name": "ipython",
    "version": 3
   },
   "file_extension": ".py",
   "mimetype": "text/x-python",
   "name": "python",
   "nbconvert_exporter": "python",
   "pygments_lexer": "ipython3",
   "version": "3.12.1"
  }
 },
 "nbformat": 4,
 "nbformat_minor": 5
}

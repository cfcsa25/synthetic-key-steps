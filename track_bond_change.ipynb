{
 "cells": [
  {
   "cell_type": "markdown",
   "id": "54ddc736",
   "metadata": {},
   "source": [
    "# Tracking the bond change"
   ]
  },
  {
   "cell_type": "code",
   "execution_count": null,
   "id": "f46139fc",
   "metadata": {},
   "outputs": [],
   "source": [
    "from rdkit import Chem\n",
    "from rdkit.Chem import rdChemReactions\n",
    "\n",
    "def _bonds_from_template(template_mol, kekulize=False):\n",
    "    \"\"\"\n",
    "    Extract bonds between mapped atoms from a template molecule.\n",
    "    Returns: dict {(atom1_mapNum, atom2_mapNum): rdkit.Chem.rdchem.BondType}\n",
    "    \"\"\"\n",
    "    # work on a copy to optionally kekulize safely\n",
    "\n",
    "    copy_mol = Chem.Mol(template_mol)\n",
    "\n",
    "    if kekulize:\n",
    "        try:\n",
    "            Chem.Kekulize(copy_mol, clearAromaticFlags=True)\n",
    "        except Exception:\n",
    "            # fallback if kekulization fails; just keep as is\n",
    "            pass\n",
    "\n",
    "    idx_to_map = {}\n",
    "    for a in copy_mol.GetAtoms():\n",
    "        m = a.GetAtomMapNum()\n",
    "        if m:  # >0 means mapped, since we don't really care the unmapped atoms (neglected in matrix)\n",
    "            idx_to_map[a.GetIdx()] = m\n",
    "\n",
    "    edge2type = {}\n",
    "    for b in copy_mol.GetBonds():\n",
    "        a1, a2 = b.GetBeginAtomIdx(), b.GetEndAtomIdx()\n",
    "        if a1 in idx_to_map and a2 in idx_to_map:\n",
    "            i, j = sorted((idx_to_map[a1], idx_to_map[a2])) # record the bond mapping number instead of the atom index\n",
    "            edge2type[(i, j)] = b.GetBondType()\n",
    "    return edge2type\n",
    "\n",
    "\n",
    "def summarize_bond_changes(rxn, kekulize=False):\n",
    "    \"\"\"\n",
    "    Given an rdChemReactions.ChemicalReaction, report which bonds are formed,\n",
    "    broken, or change order, based on template differences.\n",
    "    \"\"\"\n",
    "    # union across all reactant templates\n",
    "    r_edge2type = {}\n",
    "    for i in range(rxn.GetNumReactantTemplates()):\n",
    "        tmpl = rxn.GetReactantTemplate(i) #rdkit.Chem.rdchem.Mol object\n",
    "        r_edge2type.update(_bonds_from_template(tmpl, kekulize=kekulize))\n",
    "\n",
    "    # union across all product templates\n",
    "    p_edge2type = {}\n",
    "    print(rxn.GetNumProductTemplates())\n",
    "    for i in range(rxn.GetNumProductTemplates()):\n",
    "        tmpl = rxn.GetProductTemplate(i) #rdkit.Chem.rdchem.Mol object\n",
    "        p_edge2type.update(_bonds_from_template(tmpl, kekulize=kekulize))\n",
    "\n",
    "    # print(r_edge2type)\n",
    "\n",
    "    r_edges = set(r_edge2type)\n",
    "    p_edges = set(p_edge2type)\n",
    "\n",
    "    print(r_edges)\n",
    "    print(p_edges)\n",
    "\n",
    "    broken = sorted(r_edges - p_edges)              # present only in reactants\n",
    "    formed = sorted(p_edges - r_edges)              # present only in products\n",
    "    common = r_edges & p_edges\n",
    "\n",
    "    order_changes = [\n",
    "        (e, r_edge2type[e], p_edge2type[e])\n",
    "        for e in sorted(common)\n",
    "        if r_edge2type[e] != p_edge2type[e]\n",
    "    ]\n",
    "\n",
    "    return {\n",
    "        \"broken\": [(e, r_edge2type[e]) for e in broken],\n",
    "        \"formed\": [(e, p_edge2type[e]) for e in formed],\n",
    "        \"order_changes\": order_changes,\n",
    "    }\n"
   ]
  },
  {
   "cell_type": "code",
   "execution_count": null,
   "id": "d3291c5e",
   "metadata": {},
   "outputs": [],
   "source": [
    "\n",
    "# Atom-mapped reaction SMARTS: C–Br + HO- → C–O + Br-\n",
    "from rdkit.Chem import Draw\n",
    "from rdkit.Chem.Draw import IPythonConsole\n",
    "rxn = rdChemReactions.ReactionFromSmarts(\"[C&H3:1][C:2]1=[C:3]([N:4]([C:5]([C&H1:6]2[C&H2:7][C&H2:8][S:9](=[O:12])(=[O:13])[C&H2:10][C&H2:11]2)=[O:14])[C&H2:15][C:16]([O:35]CC)=[O:29])[C:30]([C&H3:31])=[C&H1:32][C&H1:33]=[C&H1:34]1.[NH2:17][C:18]1=[CH:19][CH:20]=[C:21]([C:22]2=[N:23][O:24][CH:25]=[N:26]2)[CH:27]=[CH:28]1\\\n",
    "                                   >>[CH3:1][C:2]1=[C:3]([N:4]([C:5]([CH:6]2[CH2:7][CH2:8][S:9](=[O:12])(=[O:13])[CH2:10][CH2:11]2)=[O:14])[CH2:15][C:16]([NH:17][C:18]2=[CH:19][CH:20]=[C:21]([C:22]3=[N:23][O:24][CH:25]=[N:26]3)[CH:27]=[CH:28]2)=[O:29])[C:30]([CH3:31])=[CH:32][CH:33]=[CH:34]1\")\n",
    "changes = summarize_bond_changes(rxn)\n",
    "print(\"Broken:\", changes[\"broken\"])\n",
    "print(\"Formed:\", changes[\"formed\"])\n",
    "print(\"Order changes:\", changes[\"order_changes\"])\n",
    "img = Draw.ReactionToImage(rxn)\n",
    "img.save(\"rxn_to_target.png\")\n"
   ]
  },
  {
   "cell_type": "markdown",
   "id": "049fa890",
   "metadata": {},
   "source": [
    "### Stereocenter\n",
    "rdkit:\n",
    "* Bond.GetStereo()\n",
    "* Mol.GetStereoGroups()\n",
    "* Chem.Lipinski.NumAtomStereoCenters()\n"
   ]
  },
  {
   "cell_type": "code",
   "execution_count": 3,
   "id": "3ca94a3f",
   "metadata": {},
   "outputs": [],
   "source": [
    "from rdkit import Chem\n",
    "from rdkit.Chem import Lipinski\n",
    "from rdkit.Chem.Draw import IPythonConsole\n",
    "\n",
    "IPythonConsole.drawOptions.addStereoAnnotation = True\n",
    "\n",
    "# stereo_test = '[C&H3:1][C:2]([C&H3:3])([C&H3:4])/[C&H1:5]=[C:6](\\\\[C:7]#[N:8])[C:9](=[O:10])[N:11]1[C&H2:12][C&H2:13][C&H2:14][C@@&H1:15]([n:16]2[n:17][c:18](-[c:19]3[c&H1:20][c&H1:21][c:22]([O:23][c:24]4[c&H1:25][c&H1:26][c&H1:27][c&H1:28][c&H1:29]4)[c&H1:30][c:31]3[F:32])[c:33]3[c:34]([N&H2:35])[n:36][c&H1:37][n:38][c:39]23)[C&H2:40]1'\n",
    "stereo_test = 'C[C@H]1[C@@H]2[C@@H]3CCC(=O)N3CCC[C@@H]2OC1=O'\n",
    "mol = Chem.MolFromSmiles(stereo_test)\n",
    "\n",
    "# Lipinski.NumAtomStereoCenters(mol)# it cannot get the result correctly if\" &\"\" is presented in the SMARTS string\n",
    "for b in mol.GetBonds():\n",
    "    if b.GetStereo() != 0:\n",
    "        print('bond index:', b.GetIdx(), 'bond BeginAtom AtomMapNum:', b.GetBeginAtom().GetAtomMapNum(), 'bond EndAtom AtomMapNum:',b.GetEndAtom().GetAtomMapNum())\n",
    "        print('stereo type:', b.GetStereo())\n"
   ]
  },
  {
   "cell_type": "code",
   "execution_count": 4,
   "id": "bd50ac94",
   "metadata": {},
   "outputs": [
    {
     "data": {
      "image/png": "[encoded data removed]",
      "text/plain": [
       "<rdkit.Chem.rdchem.Mol at 0x2922ef5f6f0>"
      ]
     },
     "execution_count": 4,
     "metadata": {},
     "output_type": "execute_result"
    }
   ],
   "source": [
    "mol"
   ]
  },
  {
   "cell_type": "markdown",
   "id": "c4b9dcdd",
   "metadata": {},
   "source": [
    "### chirality"
   ]
  },
  {
   "cell_type": "code",
   "execution_count": 6,
   "id": "0795ddb7",
   "metadata": {},
   "outputs": [
    {
     "name": "stdout",
     "output_type": "stream",
     "text": [
      "atom MAP number: 0 atom index: 1\n",
      "atom MAP number: 0 atom index: 2\n",
      "atom MAP number: 0 atom index: 3\n",
      "atom MAP number: 0 atom index: 12\n"
     ]
    }
   ],
   "source": [
    "for a in mol.GetAtoms():\n",
    "    if a.GetChiralTag() != 0:\n",
    "        print('atom MAP number:', a.GetAtomMapNum(), 'atom index:', a.GetIdx())\n"
   ]
  },
  {
   "cell_type": "code",
   "execution_count": null,
   "id": "21b2129b",
   "metadata": {},
   "outputs": [],
   "source": [
    "# Lipinski.NumUnspecifiedAtomStereoCenters(mol)"
   ]
  }
 ],
 "metadata": {
  "kernelspec": {
   "display_name": ".venv_graph_edit",
   "language": "python",
   "name": "python3"
  },
  "language_info": {
   "codemirror_mode": {
    "name": "ipython",
    "version": 3
   },
   "file_extension": ".py",
   "mimetype": "text/x-python",
   "name": "python",
   "nbconvert_exporter": "python",
   "pygments_lexer": "ipython3",
   "version": "3.12.1"
  }
 },
 "nbformat": 4,
 "nbformat_minor": 5
}

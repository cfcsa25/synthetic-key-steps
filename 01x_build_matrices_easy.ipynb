{
 "cells": [
  {
   "cell_type": "code",
   "execution_count": 1,
   "id": "overall-paradise",
   "metadata": {},
   "outputs": [],
   "source": [
    "from rdkit import Chem\n",
    "from rdkit.Chem.Draw import IPythonConsole\n",
    "\n",
    "import numpy as np\n",
    "\n",
    "import pandas as pd\n",
    "import amat_utils"
   ]
  },
  {
   "cell_type": "code",
   "execution_count": null,
   "id": "b5c15940",
   "metadata": {},
   "outputs": [],
   "source": [
    "# from rdkit import Chem\n",
    "# from rdkit.Chem import rdmolops\n",
    "# # Create a molecule from SMILES\n",
    "# file = open(\"case_smiles.txt\",\"r\")\n",
    "# smi = file.read()\n",
    "\n",
    "# target_smiles = smi\n",
    "# mol = Chem.MolFromSmiles(target_smiles)\n",
    "# # Find potential stereocenters\n",
    "# stereo_info = rdmolops.FindPotentialStereo(mol)\n",
    "# # Print stereochemical information\n",
    "# for element in stereo_info:\n",
    "#    print(f\"Type: {element.type}, Centered On: {element.centeredOn}, \"\n",
    "#          f\"Specified: {element.specified}, Descriptor: {element.descriptor}\")"
   ]
  },
  {
   "cell_type": "markdown",
   "id": "7a190418",
   "metadata": {},
   "source": [
    "## initialize"
   ]
  },
  {
   "cell_type": "markdown",
   "id": "176ef45d",
   "metadata": {},
   "source": [
    "create the mol with atom numbering for the target"
   ]
  },
  {
   "cell_type": "code",
   "execution_count": 2,
   "id": "presidential-controversy",
   "metadata": {},
   "outputs": [],
   "source": [
    "file = open(\"case_smiles.txt\",\"r\")\n",
    "smi = file.read()\n",
    "\n",
    "target_smiles = smi\n",
    "target = Chem.MolFromSmiles(target_smiles)\n",
    "Chem.Kekulize(target,clearAromaticFlags=True)"
   ]
  },
  {
   "cell_type": "code",
   "execution_count": 3,
   "id": "approximate-makeup",
   "metadata": {},
   "outputs": [],
   "source": [
    "target_atoms = [atm.GetAtomicNum() for atm in target.GetAtoms()]\n",
    "target_symbs = [atm.GetSymbol() for atm in target.GetAtoms()]"
   ]
  },
  {
   "cell_type": "code",
   "execution_count": 4,
   "id": "scenic-plymouth",
   "metadata": {},
   "outputs": [],
   "source": [
    "amat = Chem.GetAdjacencyMatrix(target,useBO=True,force=True)\n",
    "amat_init = Chem.GetAdjacencyMatrix(target,useBO=True,force=True)"
   ]
  },
  {
   "cell_type": "code",
   "execution_count": 5,
   "id": "7301f57f",
   "metadata": {},
   "outputs": [
    {
     "data": {
      "image/png": "[encoded data removed]",
      "text/plain": [
       "<rdkit.Chem.rdchem.Mol at 0x1f2c5f47c30>"
      ]
     },
     "execution_count": 5,
     "metadata": {},
     "output_type": "execute_result"
    }
   ],
   "source": [
    "amat_utils.mol_with_atom_index(target)"
   ]
  },
  {
   "cell_type": "markdown",
   "id": "ae48d50a",
   "metadata": {},
   "source": [
    "### Experimental c"
   ]
  },
  {
   "cell_type": "markdown",
   "id": "aa78b58a",
   "metadata": {},
   "source": [
    "make the change-log from the csv input. \n",
    "Meant as an intemediate to generate adjacency matrices for all synthetic intermediates"
   ]
  },
  {
   "cell_type": "code",
   "execution_count": 6,
   "id": "9a9d72bd",
   "metadata": {},
   "outputs": [
    {
     "data": {
      "text/plain": [
       "[{'edits': ()},\n",
       " {'pad': 0, 'pad_elem': [], 'edits': [(25, 25, 1)]},\n",
       " {'pad': 1, 'pad_elem': [17], 'edits': [(30, 29, -1), (30, 41, 1)]}]"
      ]
     },
     "execution_count": 6,
     "metadata": {},
     "output_type": "execute_result"
    }
   ],
   "source": [
    "changelogs = amat_utils.make_changelogs(\"./edit_files/edits_case_easy.csv\")\n",
    "changelogs[:3]\n",
    "# check the changelogs here."
   ]
  },
  {
   "cell_type": "markdown",
   "id": "787eed85",
   "metadata": {},
   "source": [
    "generate matrices"
   ]
  },
  {
   "cell_type": "code",
   "execution_count": 7,
   "id": "65fcb228",
   "metadata": {},
   "outputs": [],
   "source": [
    "# usually the [1:] is because the first entry is blank.\n",
    "out_1,final_atoms_1 = amat_utils.apply_changes(amat_init, target_atoms,changelogs[1:])"
   ]
  },
  {
   "cell_type": "markdown",
   "id": "25cd4657",
   "metadata": {},
   "source": [
    "this is for checking that the mol objects don't break valency rules"
   ]
  },
  {
   "cell_type": "code",
   "execution_count": 8,
   "id": "68da6e59",
   "metadata": {},
   "outputs": [
    {
     "name": "stdout",
     "output_type": "stream",
     "text": [
      "0\n",
      "Bc1ccc(Oc2ccccc2)cc1F.CC(C)(C)C=C(C#N)C(=O)Cl.CN1CCCC(O)C1.Nc1ncnc2[nH]nc(Br)c12\n",
      "1\n",
      "Bc1ccc(Oc2ccccc2)cc1F.CC(C)(C)C=C(C#N)C(=O)Cl.CN1CCCC(n2nc(Br)c3c(N)ncnc32)C1.O\n",
      "2\n",
      "B.Br.CC(C)(C)C=C(C#N)C(=O)Cl.CN1CCCC(n2nc(-c3ccc(Oc4ccccc4)cc3F)c3c(N)ncnc32)C1.O\n",
      "3\n",
      "B.Br.C.CC(C)(C)C=C(C#N)C(=O)Cl.Nc1ncnc2c1c(-c1ccc(Oc3ccccc3)cc1F)nn2C1CCCNC1.O\n",
      "4\n",
      "B.Br.C.CC(C)(C)C=C(C#N)C(=O)N1CCCC(n2nc(-c3ccc(Oc4ccccc4)cc3F)c3c(N)ncnc32)C1.Cl.O\n",
      "5\n",
      "B.Br.C.CC(C)(C)C=C(C#N)C(=O)N1CCCC(n2nc(-c3ccc(Oc4ccccc4)cc3F)c3c(N)ncnc32)C1.Cl.O\n"
     ]
    }
   ],
   "source": [
    "for i in range(len(out_1)):\n",
    "    print(i)\n",
    "    m = amat_utils.molFromAdjMat(final_atoms_1,out_1[i],sanitize=False)\n",
    "    # print(m)\n",
    "    # print(Chem.MolToSmiles(m))\n",
    "    Chem.SanitizeMol(m)\n",
    "    print(Chem.MolToSmiles(m))"
   ]
  },
  {
   "cell_type": "markdown",
   "id": "068770bf",
   "metadata": {},
   "source": [
    "save matrices as npz file"
   ]
  },
  {
   "cell_type": "code",
   "execution_count": 9,
   "id": "f91dd28d",
   "metadata": {},
   "outputs": [],
   "source": [
    "save_dict = {\"amats\":out_1[:-1],\"atoms\":final_atoms_1}\n",
    "np.savez(\"./matrices/case_easy\",**save_dict)"
   ]
  },
  {
   "cell_type": "code",
   "execution_count": null,
   "id": "02f3da4e",
   "metadata": {},
   "outputs": [],
   "source": [
    "from rdkit import Chem\n",
    "from rdkit.Chem import Draw\n",
    "from rdkit.Chem.Draw import IPythonConsole\n",
    "IPythonConsole.ipython_useSVG = True\n",
    "# IPythonConsole.drawOptions.addAtomIndices = False\n",
    " \n",
    "def mol_with_atom_index( mol ):\n",
    "    atoms = mol.GetNumAtoms()\n",
    "    for idx in range( atoms ):\n",
    "        mol.GetAtomWithIdx( idx ).SetProp( 'molAtomMapNumber', str( mol.GetAtomWithIdx( idx ).GetIdx() ) )\n",
    "    return mol\n",
    "\n",
    "# Set the size of the plot (e.g., 800x800 pixels)\n",
    "final_step = Chem.MolFromSmiles(\"B.Br.C.CC(C)(C)C=C(C#N)C(=O)N1CCCC(n2nc(-c3ccc(Oc4ccccc4)cc3F)c3c(N)ncnc32)C1.Cl.O\")\n",
    "mol_with_atom_index(final_step)\n",
    "\n"
   ]
  },
  {
   "cell_type": "code",
   "execution_count": null,
   "id": "69423301",
   "metadata": {},
   "outputs": [],
   "source": []
  }
 ],
 "metadata": {
  "kernelspec": {
   "display_name": ".venv_graph_edit",
   "language": "python",
   "name": "python3"
  },
  "language_info": {
   "codemirror_mode": {
    "name": "ipython",
    "version": 3
   },
   "file_extension": ".py",
   "mimetype": "text/x-python",
   "name": "python",
   "nbconvert_exporter": "python",
   "pygments_lexer": "ipython3",
   "version": "3.12.1"
  }
 },
 "nbformat": 4,
 "nbformat_minor": 5
}
